{
 "cells": [
  {
   "cell_type": "markdown",
   "id": "d7cd915f",
   "metadata": {},
   "source": [
    "# App Setup"
   ]
  },
  {
   "cell_type": "code",
   "execution_count": 2,
   "id": "93a83b04",
   "metadata": {},
   "outputs": [],
   "source": [
    "apps = {\n",
    "    \"CBE\": (\"com.combanketh.mobilebanking\", \"Commercial Bank of Ethiopia\"),\n",
    "    \"BOA\": (\"com.boa.boaMobileBanking\", \"Bank of Abyssinia\"),\n",
    "    \"Dashen\": (\"com.dashen.dashensuperapp\", \"Dashen Bank\")\n",
    "}"
   ]
  },
  {
   "cell_type": "markdown",
   "id": "80002504",
   "metadata": {},
   "source": [
    "# Scraping Code"
   ]
  },
  {
   "cell_type": "code",
   "execution_count": 3,
   "id": "c38dfaed",
   "metadata": {},
   "outputs": [
    {
     "name": "stdout",
     "output_type": "stream",
     "text": [
      "🔄 Fetching reviews for Commercial Bank of Ethiopia\n",
      "🔄 Fetching reviews for Bank of Abyssinia\n",
      "🔄 Fetching reviews for Dashen Bank\n"
     ]
    },
    {
     "data": {
      "text/html": [
       "<div>\n",
       "<style scoped>\n",
       "    .dataframe tbody tr th:only-of-type {\n",
       "        vertical-align: middle;\n",
       "    }\n",
       "\n",
       "    .dataframe tbody tr th {\n",
       "        vertical-align: top;\n",
       "    }\n",
       "\n",
       "    .dataframe thead th {\n",
       "        text-align: right;\n",
       "    }\n",
       "</style>\n",
       "<table border=\"1\" class=\"dataframe\">\n",
       "  <thead>\n",
       "    <tr style=\"text-align: right;\">\n",
       "      <th></th>\n",
       "      <th>review</th>\n",
       "      <th>rating</th>\n",
       "      <th>date</th>\n",
       "      <th>bank</th>\n",
       "      <th>source</th>\n",
       "    </tr>\n",
       "  </thead>\n",
       "  <tbody>\n",
       "    <tr>\n",
       "      <th>0</th>\n",
       "      <td>\"Why don’t your ATMs support account-to-accoun...</td>\n",
       "      <td>4</td>\n",
       "      <td>2025-06-06</td>\n",
       "      <td>Commercial Bank of Ethiopia</td>\n",
       "      <td>Google Play</td>\n",
       "    </tr>\n",
       "    <tr>\n",
       "      <th>1</th>\n",
       "      <td>what is this app problem???</td>\n",
       "      <td>1</td>\n",
       "      <td>2025-06-05</td>\n",
       "      <td>Commercial Bank of Ethiopia</td>\n",
       "      <td>Google Play</td>\n",
       "    </tr>\n",
       "    <tr>\n",
       "      <th>2</th>\n",
       "      <td>the app is proactive and a good connections.</td>\n",
       "      <td>5</td>\n",
       "      <td>2025-06-05</td>\n",
       "      <td>Commercial Bank of Ethiopia</td>\n",
       "      <td>Google Play</td>\n",
       "    </tr>\n",
       "    <tr>\n",
       "      <th>3</th>\n",
       "      <td>I cannot send to cbebirr app. through this app.</td>\n",
       "      <td>3</td>\n",
       "      <td>2025-06-05</td>\n",
       "      <td>Commercial Bank of Ethiopia</td>\n",
       "      <td>Google Play</td>\n",
       "    </tr>\n",
       "    <tr>\n",
       "      <th>4</th>\n",
       "      <td>good</td>\n",
       "      <td>4</td>\n",
       "      <td>2025-06-05</td>\n",
       "      <td>Commercial Bank of Ethiopia</td>\n",
       "      <td>Google Play</td>\n",
       "    </tr>\n",
       "  </tbody>\n",
       "</table>\n",
       "</div>"
      ],
      "text/plain": [
       "                                              review  rating        date  \\\n",
       "0  \"Why don’t your ATMs support account-to-accoun...       4  2025-06-06   \n",
       "1                        what is this app problem???       1  2025-06-05   \n",
       "2       the app is proactive and a good connections.       5  2025-06-05   \n",
       "3    I cannot send to cbebirr app. through this app.       3  2025-06-05   \n",
       "4                                               good       4  2025-06-05   \n",
       "\n",
       "                          bank       source  \n",
       "0  Commercial Bank of Ethiopia  Google Play  \n",
       "1  Commercial Bank of Ethiopia  Google Play  \n",
       "2  Commercial Bank of Ethiopia  Google Play  \n",
       "3  Commercial Bank of Ethiopia  Google Play  \n",
       "4  Commercial Bank of Ethiopia  Google Play  "
      ]
     },
     "execution_count": 3,
     "metadata": {},
     "output_type": "execute_result"
    }
   ],
   "source": [
    "from google_play_scraper import Sort, reviews\n",
    "import pandas as pd\n",
    "from datetime import datetime\n",
    "\n",
    "all_reviews = []\n",
    "\n",
    "for short_name, (app_id, bank_name) in apps.items():\n",
    "    print(f\"🔄 Fetching reviews for {bank_name}\")\n",
    "    result, _ = reviews(\n",
    "        app_id,\n",
    "        lang='en',\n",
    "        country='us',\n",
    "        sort=Sort.NEWEST,\n",
    "        count=500  # Can go up to 5000\n",
    "    )\n",
    "    for entry in result:\n",
    "        all_reviews.append({\n",
    "            'review': entry['content'],\n",
    "            'rating': entry['score'],\n",
    "            'date': entry['at'].strftime('%Y-%m-%d'),\n",
    "            'bank': bank_name,\n",
    "            'source': 'Google Play'\n",
    "        })\n",
    "\n",
    "# Convert to DataFrame\n",
    "df_raw = pd.DataFrame(all_reviews)\n",
    "df_raw.to_csv(\"../data/raw_reviews.csv\", index=False)\n",
    "df_raw.head()\n"
   ]
  },
  {
   "cell_type": "markdown",
   "id": "0eb7b945",
   "metadata": {},
   "source": [
    "#  Data Preprocessing\n",
    "\n",
    "I will:\n",
    "- Remove duplicate reviews\n",
    "- Drop missing entries\n",
    "- Normalize the date format to `YYYY-MM-DD`\n"
   ]
  },
  {
   "cell_type": "code",
   "execution_count": 4,
   "id": "999f5b9c",
   "metadata": {},
   "outputs": [
    {
     "name": "stderr",
     "output_type": "stream",
     "text": [
      "C:\\Users\\addis\\AppData\\Local\\Temp\\ipykernel_3116\\3420169314.py:3: SettingWithCopyWarning: \n",
      "A value is trying to be set on a copy of a slice from a DataFrame\n",
      "\n",
      "See the caveats in the documentation: https://pandas.pydata.org/pandas-docs/stable/user_guide/indexing.html#returning-a-view-versus-a-copy\n",
      "  df_cleaned.dropna(subset=['review', 'rating', 'date', 'bank'], inplace=True)\n",
      "C:\\Users\\addis\\AppData\\Local\\Temp\\ipykernel_3116\\3420169314.py:6: SettingWithCopyWarning: \n",
      "A value is trying to be set on a copy of a slice from a DataFrame.\n",
      "Try using .loc[row_indexer,col_indexer] = value instead\n",
      "\n",
      "See the caveats in the documentation: https://pandas.pydata.org/pandas-docs/stable/user_guide/indexing.html#returning-a-view-versus-a-copy\n",
      "  df_cleaned['date'] = pd.to_datetime(df_cleaned['date'], errors='coerce')\n",
      "C:\\Users\\addis\\AppData\\Local\\Temp\\ipykernel_3116\\3420169314.py:7: SettingWithCopyWarning: \n",
      "A value is trying to be set on a copy of a slice from a DataFrame\n",
      "\n",
      "See the caveats in the documentation: https://pandas.pydata.org/pandas-docs/stable/user_guide/indexing.html#returning-a-view-versus-a-copy\n",
      "  df_cleaned.dropna(subset=['date'], inplace=True)\n",
      "C:\\Users\\addis\\AppData\\Local\\Temp\\ipykernel_3116\\3420169314.py:8: SettingWithCopyWarning: \n",
      "A value is trying to be set on a copy of a slice from a DataFrame.\n",
      "Try using .loc[row_indexer,col_indexer] = value instead\n",
      "\n",
      "See the caveats in the documentation: https://pandas.pydata.org/pandas-docs/stable/user_guide/indexing.html#returning-a-view-versus-a-copy\n",
      "  df_cleaned['date'] = df_cleaned['date'].dt.strftime('%Y-%m-%d')\n"
     ]
    },
    {
     "data": {
      "text/html": [
       "<div>\n",
       "<style scoped>\n",
       "    .dataframe tbody tr th:only-of-type {\n",
       "        vertical-align: middle;\n",
       "    }\n",
       "\n",
       "    .dataframe tbody tr th {\n",
       "        vertical-align: top;\n",
       "    }\n",
       "\n",
       "    .dataframe thead th {\n",
       "        text-align: right;\n",
       "    }\n",
       "</style>\n",
       "<table border=\"1\" class=\"dataframe\">\n",
       "  <thead>\n",
       "    <tr style=\"text-align: right;\">\n",
       "      <th></th>\n",
       "      <th>review</th>\n",
       "      <th>rating</th>\n",
       "      <th>date</th>\n",
       "      <th>bank</th>\n",
       "      <th>source</th>\n",
       "    </tr>\n",
       "  </thead>\n",
       "  <tbody>\n",
       "    <tr>\n",
       "      <th>0</th>\n",
       "      <td>\"Why don’t your ATMs support account-to-accoun...</td>\n",
       "      <td>4</td>\n",
       "      <td>2025-06-06</td>\n",
       "      <td>Commercial Bank of Ethiopia</td>\n",
       "      <td>Google Play</td>\n",
       "    </tr>\n",
       "    <tr>\n",
       "      <th>1</th>\n",
       "      <td>what is this app problem???</td>\n",
       "      <td>1</td>\n",
       "      <td>2025-06-05</td>\n",
       "      <td>Commercial Bank of Ethiopia</td>\n",
       "      <td>Google Play</td>\n",
       "    </tr>\n",
       "    <tr>\n",
       "      <th>2</th>\n",
       "      <td>the app is proactive and a good connections.</td>\n",
       "      <td>5</td>\n",
       "      <td>2025-06-05</td>\n",
       "      <td>Commercial Bank of Ethiopia</td>\n",
       "      <td>Google Play</td>\n",
       "    </tr>\n",
       "    <tr>\n",
       "      <th>3</th>\n",
       "      <td>I cannot send to cbebirr app. through this app.</td>\n",
       "      <td>3</td>\n",
       "      <td>2025-06-05</td>\n",
       "      <td>Commercial Bank of Ethiopia</td>\n",
       "      <td>Google Play</td>\n",
       "    </tr>\n",
       "    <tr>\n",
       "      <th>4</th>\n",
       "      <td>good</td>\n",
       "      <td>4</td>\n",
       "      <td>2025-06-05</td>\n",
       "      <td>Commercial Bank of Ethiopia</td>\n",
       "      <td>Google Play</td>\n",
       "    </tr>\n",
       "  </tbody>\n",
       "</table>\n",
       "</div>"
      ],
      "text/plain": [
       "                                              review  rating        date  \\\n",
       "0  \"Why don’t your ATMs support account-to-accoun...       4  2025-06-06   \n",
       "1                        what is this app problem???       1  2025-06-05   \n",
       "2       the app is proactive and a good connections.       5  2025-06-05   \n",
       "3    I cannot send to cbebirr app. through this app.       3  2025-06-05   \n",
       "4                                               good       4  2025-06-05   \n",
       "\n",
       "                          bank       source  \n",
       "0  Commercial Bank of Ethiopia  Google Play  \n",
       "1  Commercial Bank of Ethiopia  Google Play  \n",
       "2  Commercial Bank of Ethiopia  Google Play  \n",
       "3  Commercial Bank of Ethiopia  Google Play  \n",
       "4  Commercial Bank of Ethiopia  Google Play  "
      ]
     },
     "execution_count": 4,
     "metadata": {},
     "output_type": "execute_result"
    }
   ],
   "source": [
    "# Drop duplicates and nulls\n",
    "df_cleaned = df_raw.drop_duplicates(subset='review')\n",
    "df_cleaned.dropna(subset=['review', 'rating', 'date', 'bank'], inplace=True)\n",
    "\n",
    "# Normalize date\n",
    "df_cleaned['date'] = pd.to_datetime(df_cleaned['date'], errors='coerce')\n",
    "df_cleaned.dropna(subset=['date'], inplace=True)\n",
    "df_cleaned['date'] = df_cleaned['date'].dt.strftime('%Y-%m-%d')\n",
    "\n",
    "# Save cleaned dataset\n",
    "df_cleaned.to_csv(\"../data/cleaned_reviews.csv\", index=False)\n",
    "df_cleaned.head()\n"
   ]
  },
  {
   "cell_type": "markdown",
   "id": "6fb46024",
   "metadata": {},
   "source": [
    "# Result Summary"
   ]
  },
  {
   "cell_type": "code",
   "execution_count": 8,
   "id": "b20f8052",
   "metadata": {},
   "outputs": [
    {
     "name": "stdout",
     "output_type": "stream",
     "text": [
      "- Total reviews scraped: 1448\n",
      "- Reviews after cleaning: 1177\n",
      "- Clean dataset saved to: data/cleaned_reviews.csv\n"
     ]
    }
   ],
   "source": [
    "print(f\"- Total reviews scraped: {len(df_raw)}\")\n",
    "print(f\"- Reviews after cleaning: {len(df_cleaned)}\")\n",
    "print(\"- Clean dataset saved to: data/cleaned_reviews.csv\")"
   ]
  }
 ],
 "metadata": {
  "kernelspec": {
   "display_name": "env",
   "language": "python",
   "name": "python3"
  },
  "language_info": {
   "codemirror_mode": {
    "name": "ipython",
    "version": 3
   },
   "file_extension": ".py",
   "mimetype": "text/x-python",
   "name": "python",
   "nbconvert_exporter": "python",
   "pygments_lexer": "ipython3",
   "version": "3.13.2"
  }
 },
 "nbformat": 4,
 "nbformat_minor": 5
}

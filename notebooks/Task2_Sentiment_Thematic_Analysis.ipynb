{
 "cells": [
  {
   "cell_type": "markdown",
   "id": "9ba92ffe",
   "metadata": {},
   "source": [
    "# import dependencies"
   ]
  },
  {
   "cell_type": "code",
   "execution_count": 7,
   "id": "c7e460bf",
   "metadata": {},
   "outputs": [
    {
     "name": "stdout",
     "output_type": "stream",
     "text": [
      "Requirement already satisfied: transformers in c:\\users\\addis\\onedrive\\documents\\clone\\cnew\\banking-app-review-analysis\\env\\lib\\site-packages (4.52.4)\n",
      "Requirement already satisfied: torch in c:\\users\\addis\\onedrive\\documents\\clone\\cnew\\banking-app-review-analysis\\env\\lib\\site-packages (2.7.1)\n",
      "Requirement already satisfied: tqdm in c:\\users\\addis\\onedrive\\documents\\clone\\cnew\\banking-app-review-analysis\\env\\lib\\site-packages (4.67.1)\n",
      "Requirement already satisfied: filelock in c:\\users\\addis\\onedrive\\documents\\clone\\cnew\\banking-app-review-analysis\\env\\lib\\site-packages (from transformers) (3.18.0)\n",
      "Requirement already satisfied: huggingface-hub<1.0,>=0.30.0 in c:\\users\\addis\\onedrive\\documents\\clone\\cnew\\banking-app-review-analysis\\env\\lib\\site-packages (from transformers) (0.32.4)\n",
      "Requirement already satisfied: numpy>=1.17 in c:\\users\\addis\\onedrive\\documents\\clone\\cnew\\banking-app-review-analysis\\env\\lib\\site-packages (from transformers) (2.3.0)\n",
      "Requirement already satisfied: packaging>=20.0 in c:\\users\\addis\\onedrive\\documents\\clone\\cnew\\banking-app-review-analysis\\env\\lib\\site-packages (from transformers) (25.0)\n",
      "Requirement already satisfied: pyyaml>=5.1 in c:\\users\\addis\\onedrive\\documents\\clone\\cnew\\banking-app-review-analysis\\env\\lib\\site-packages (from transformers) (6.0.2)\n",
      "Requirement already satisfied: regex!=2019.12.17 in c:\\users\\addis\\onedrive\\documents\\clone\\cnew\\banking-app-review-analysis\\env\\lib\\site-packages (from transformers) (2024.11.6)\n",
      "Requirement already satisfied: requests in c:\\users\\addis\\onedrive\\documents\\clone\\cnew\\banking-app-review-analysis\\env\\lib\\site-packages (from transformers) (2.32.3)\n",
      "Requirement already satisfied: tokenizers<0.22,>=0.21 in c:\\users\\addis\\onedrive\\documents\\clone\\cnew\\banking-app-review-analysis\\env\\lib\\site-packages (from transformers) (0.21.1)\n",
      "Requirement already satisfied: safetensors>=0.4.3 in c:\\users\\addis\\onedrive\\documents\\clone\\cnew\\banking-app-review-analysis\\env\\lib\\site-packages (from transformers) (0.5.3)\n",
      "Requirement already satisfied: typing-extensions>=4.10.0 in c:\\users\\addis\\onedrive\\documents\\clone\\cnew\\banking-app-review-analysis\\env\\lib\\site-packages (from torch) (4.14.0)\n",
      "Requirement already satisfied: sympy>=1.13.3 in c:\\users\\addis\\onedrive\\documents\\clone\\cnew\\banking-app-review-analysis\\env\\lib\\site-packages (from torch) (1.14.0)\n",
      "Requirement already satisfied: networkx in c:\\users\\addis\\onedrive\\documents\\clone\\cnew\\banking-app-review-analysis\\env\\lib\\site-packages (from torch) (3.5)\n",
      "Requirement already satisfied: jinja2 in c:\\users\\addis\\onedrive\\documents\\clone\\cnew\\banking-app-review-analysis\\env\\lib\\site-packages (from torch) (3.1.6)\n",
      "Requirement already satisfied: fsspec in c:\\users\\addis\\onedrive\\documents\\clone\\cnew\\banking-app-review-analysis\\env\\lib\\site-packages (from torch) (2025.5.1)\n",
      "Requirement already satisfied: setuptools in c:\\users\\addis\\onedrive\\documents\\clone\\cnew\\banking-app-review-analysis\\env\\lib\\site-packages (from torch) (80.9.0)\n",
      "Requirement already satisfied: colorama in c:\\users\\addis\\onedrive\\documents\\clone\\cnew\\banking-app-review-analysis\\env\\lib\\site-packages (from tqdm) (0.4.6)\n",
      "Requirement already satisfied: mpmath<1.4,>=1.1.0 in c:\\users\\addis\\onedrive\\documents\\clone\\cnew\\banking-app-review-analysis\\env\\lib\\site-packages (from sympy>=1.13.3->torch) (1.3.0)\n",
      "Requirement already satisfied: MarkupSafe>=2.0 in c:\\users\\addis\\onedrive\\documents\\clone\\cnew\\banking-app-review-analysis\\env\\lib\\site-packages (from jinja2->torch) (3.0.2)\n",
      "Requirement already satisfied: charset-normalizer<4,>=2 in c:\\users\\addis\\onedrive\\documents\\clone\\cnew\\banking-app-review-analysis\\env\\lib\\site-packages (from requests->transformers) (3.4.2)\n",
      "Requirement already satisfied: idna<4,>=2.5 in c:\\users\\addis\\onedrive\\documents\\clone\\cnew\\banking-app-review-analysis\\env\\lib\\site-packages (from requests->transformers) (3.10)\n",
      "Requirement already satisfied: urllib3<3,>=1.21.1 in c:\\users\\addis\\onedrive\\documents\\clone\\cnew\\banking-app-review-analysis\\env\\lib\\site-packages (from requests->transformers) (2.4.0)\n",
      "Requirement already satisfied: certifi>=2017.4.17 in c:\\users\\addis\\onedrive\\documents\\clone\\cnew\\banking-app-review-analysis\\env\\lib\\site-packages (from requests->transformers) (2025.4.26)\n"
     ]
    },
    {
     "name": "stderr",
     "output_type": "stream",
     "text": [
      "\n",
      "[notice] A new release of pip is available: 24.3.1 -> 25.1.1\n",
      "[notice] To update, run: python.exe -m pip install --upgrade pip\n"
     ]
    },
    {
     "name": "stdout",
     "output_type": "stream",
     "text": [
      "Requirement already satisfied: transformers in c:\\users\\addis\\onedrive\\documents\\clone\\cnew\\banking-app-review-analysis\\env\\lib\\site-packages (4.52.4)\n",
      "Requirement already satisfied: torch in c:\\users\\addis\\onedrive\\documents\\clone\\cnew\\banking-app-review-analysis\\env\\lib\\site-packages (2.7.1)\n",
      "Requirement already satisfied: tqdm in c:\\users\\addis\\onedrive\\documents\\clone\\cnew\\banking-app-review-analysis\\env\\lib\\site-packages (4.67.1)\n",
      "Requirement already satisfied: filelock in c:\\users\\addis\\onedrive\\documents\\clone\\cnew\\banking-app-review-analysis\\env\\lib\\site-packages (from transformers) (3.18.0)\n",
      "Requirement already satisfied: huggingface-hub<1.0,>=0.30.0 in c:\\users\\addis\\onedrive\\documents\\clone\\cnew\\banking-app-review-analysis\\env\\lib\\site-packages (from transformers) (0.32.4)\n",
      "Requirement already satisfied: numpy>=1.17 in c:\\users\\addis\\onedrive\\documents\\clone\\cnew\\banking-app-review-analysis\\env\\lib\\site-packages (from transformers) (2.3.0)\n",
      "Requirement already satisfied: packaging>=20.0 in c:\\users\\addis\\onedrive\\documents\\clone\\cnew\\banking-app-review-analysis\\env\\lib\\site-packages (from transformers) (25.0)\n",
      "Requirement already satisfied: pyyaml>=5.1 in c:\\users\\addis\\onedrive\\documents\\clone\\cnew\\banking-app-review-analysis\\env\\lib\\site-packages (from transformers) (6.0.2)\n",
      "Requirement already satisfied: regex!=2019.12.17 in c:\\users\\addis\\onedrive\\documents\\clone\\cnew\\banking-app-review-analysis\\env\\lib\\site-packages (from transformers) (2024.11.6)\n",
      "Requirement already satisfied: requests in c:\\users\\addis\\onedrive\\documents\\clone\\cnew\\banking-app-review-analysis\\env\\lib\\site-packages (from transformers) (2.32.3)\n",
      "Requirement already satisfied: tokenizers<0.22,>=0.21 in c:\\users\\addis\\onedrive\\documents\\clone\\cnew\\banking-app-review-analysis\\env\\lib\\site-packages (from transformers) (0.21.1)\n",
      "Requirement already satisfied: safetensors>=0.4.3 in c:\\users\\addis\\onedrive\\documents\\clone\\cnew\\banking-app-review-analysis\\env\\lib\\site-packages (from transformers) (0.5.3)\n",
      "Requirement already satisfied: typing-extensions>=4.10.0 in c:\\users\\addis\\onedrive\\documents\\clone\\cnew\\banking-app-review-analysis\\env\\lib\\site-packages (from torch) (4.14.0)\n",
      "Requirement already satisfied: sympy>=1.13.3 in c:\\users\\addis\\onedrive\\documents\\clone\\cnew\\banking-app-review-analysis\\env\\lib\\site-packages (from torch) (1.14.0)\n",
      "Requirement already satisfied: networkx in c:\\users\\addis\\onedrive\\documents\\clone\\cnew\\banking-app-review-analysis\\env\\lib\\site-packages (from torch) (3.5)\n",
      "Requirement already satisfied: jinja2 in c:\\users\\addis\\onedrive\\documents\\clone\\cnew\\banking-app-review-analysis\\env\\lib\\site-packages (from torch) (3.1.6)\n",
      "Requirement already satisfied: fsspec in c:\\users\\addis\\onedrive\\documents\\clone\\cnew\\banking-app-review-analysis\\env\\lib\\site-packages (from torch) (2025.5.1)\n",
      "Requirement already satisfied: setuptools in c:\\users\\addis\\onedrive\\documents\\clone\\cnew\\banking-app-review-analysis\\env\\lib\\site-packages (from torch) (80.9.0)\n",
      "Requirement already satisfied: colorama in c:\\users\\addis\\onedrive\\documents\\clone\\cnew\\banking-app-review-analysis\\env\\lib\\site-packages (from tqdm) (0.4.6)\n",
      "Requirement already satisfied: mpmath<1.4,>=1.1.0 in c:\\users\\addis\\onedrive\\documents\\clone\\cnew\\banking-app-review-analysis\\env\\lib\\site-packages (from sympy>=1.13.3->torch) (1.3.0)\n",
      "Requirement already satisfied: MarkupSafe>=2.0 in c:\\users\\addis\\onedrive\\documents\\clone\\cnew\\banking-app-review-analysis\\env\\lib\\site-packages (from jinja2->torch) (3.0.2)\n",
      "Requirement already satisfied: charset-normalizer<4,>=2 in c:\\users\\addis\\onedrive\\documents\\clone\\cnew\\banking-app-review-analysis\\env\\lib\\site-packages (from requests->transformers) (3.4.2)\n",
      "Requirement already satisfied: idna<4,>=2.5 in c:\\users\\addis\\onedrive\\documents\\clone\\cnew\\banking-app-review-analysis\\env\\lib\\site-packages (from requests->transformers) (3.10)\n",
      "Requirement already satisfied: urllib3<3,>=1.21.1 in c:\\users\\addis\\onedrive\\documents\\clone\\cnew\\banking-app-review-analysis\\env\\lib\\site-packages (from requests->transformers) (2.4.0)\n",
      "Requirement already satisfied: certifi>=2017.4.17 in c:\\users\\addis\\onedrive\\documents\\clone\\cnew\\banking-app-review-analysis\\env\\lib\\site-packages (from requests->transformers) (2025.4.26)\n"
     ]
    },
    {
     "name": "stderr",
     "output_type": "stream",
     "text": [
      "\n",
      "[notice] A new release of pip is available: 24.3.1 -> 25.1.1\n",
      "[notice] To update, run: python.exe -m pip install --upgrade pip\n"
     ]
    },
    {
     "name": "stdout",
     "output_type": "stream",
     "text": [
      "Requirement already satisfied: nltk in c:\\users\\addis\\onedrive\\documents\\clone\\cnew\\banking-app-review-analysis\\env\\lib\\site-packages (3.9.1)\n",
      "Requirement already satisfied: scikit-learn in c:\\users\\addis\\onedrive\\documents\\clone\\cnew\\banking-app-review-analysis\\env\\lib\\site-packages (1.7.0)\n",
      "Requirement already satisfied: spacy in c:\\users\\addis\\onedrive\\documents\\clone\\cnew\\banking-app-review-analysis\\env\\lib\\site-packages (3.8.7)\n",
      "Requirement already satisfied: click in c:\\users\\addis\\onedrive\\documents\\clone\\cnew\\banking-app-review-analysis\\env\\lib\\site-packages (from nltk) (8.2.1)\n",
      "Requirement already satisfied: joblib in c:\\users\\addis\\onedrive\\documents\\clone\\cnew\\banking-app-review-analysis\\env\\lib\\site-packages (from nltk) (1.5.1)\n",
      "Requirement already satisfied: regex>=2021.8.3 in c:\\users\\addis\\onedrive\\documents\\clone\\cnew\\banking-app-review-analysis\\env\\lib\\site-packages (from nltk) (2024.11.6)\n",
      "Requirement already satisfied: tqdm in c:\\users\\addis\\onedrive\\documents\\clone\\cnew\\banking-app-review-analysis\\env\\lib\\site-packages (from nltk) (4.67.1)\n",
      "Requirement already satisfied: numpy>=1.22.0 in c:\\users\\addis\\onedrive\\documents\\clone\\cnew\\banking-app-review-analysis\\env\\lib\\site-packages (from scikit-learn) (2.3.0)\n",
      "Requirement already satisfied: scipy>=1.8.0 in c:\\users\\addis\\onedrive\\documents\\clone\\cnew\\banking-app-review-analysis\\env\\lib\\site-packages (from scikit-learn) (1.15.3)\n",
      "Requirement already satisfied: threadpoolctl>=3.1.0 in c:\\users\\addis\\onedrive\\documents\\clone\\cnew\\banking-app-review-analysis\\env\\lib\\site-packages (from scikit-learn) (3.6.0)\n",
      "Requirement already satisfied: spacy-legacy<3.1.0,>=3.0.11 in c:\\users\\addis\\onedrive\\documents\\clone\\cnew\\banking-app-review-analysis\\env\\lib\\site-packages (from spacy) (3.0.12)\n",
      "Requirement already satisfied: spacy-loggers<2.0.0,>=1.0.0 in c:\\users\\addis\\onedrive\\documents\\clone\\cnew\\banking-app-review-analysis\\env\\lib\\site-packages (from spacy) (1.0.5)\n",
      "Requirement already satisfied: murmurhash<1.1.0,>=0.28.0 in c:\\users\\addis\\onedrive\\documents\\clone\\cnew\\banking-app-review-analysis\\env\\lib\\site-packages (from spacy) (1.0.13)\n",
      "Requirement already satisfied: cymem<2.1.0,>=2.0.2 in c:\\users\\addis\\onedrive\\documents\\clone\\cnew\\banking-app-review-analysis\\env\\lib\\site-packages (from spacy) (2.0.11)\n",
      "Requirement already satisfied: preshed<3.1.0,>=3.0.2 in c:\\users\\addis\\onedrive\\documents\\clone\\cnew\\banking-app-review-analysis\\env\\lib\\site-packages (from spacy) (3.0.10)\n",
      "Requirement already satisfied: thinc<8.4.0,>=8.3.4 in c:\\users\\addis\\onedrive\\documents\\clone\\cnew\\banking-app-review-analysis\\env\\lib\\site-packages (from spacy) (8.3.6)\n",
      "Requirement already satisfied: wasabi<1.2.0,>=0.9.1 in c:\\users\\addis\\onedrive\\documents\\clone\\cnew\\banking-app-review-analysis\\env\\lib\\site-packages (from spacy) (1.1.3)\n",
      "Requirement already satisfied: srsly<3.0.0,>=2.4.3 in c:\\users\\addis\\onedrive\\documents\\clone\\cnew\\banking-app-review-analysis\\env\\lib\\site-packages (from spacy) (2.5.1)\n",
      "Requirement already satisfied: catalogue<2.1.0,>=2.0.6 in c:\\users\\addis\\onedrive\\documents\\clone\\cnew\\banking-app-review-analysis\\env\\lib\\site-packages (from spacy) (2.0.10)\n",
      "Requirement already satisfied: weasel<0.5.0,>=0.1.0 in c:\\users\\addis\\onedrive\\documents\\clone\\cnew\\banking-app-review-analysis\\env\\lib\\site-packages (from spacy) (0.4.1)\n",
      "Requirement already satisfied: typer<1.0.0,>=0.3.0 in c:\\users\\addis\\onedrive\\documents\\clone\\cnew\\banking-app-review-analysis\\env\\lib\\site-packages (from spacy) (0.16.0)\n",
      "Requirement already satisfied: requests<3.0.0,>=2.13.0 in c:\\users\\addis\\onedrive\\documents\\clone\\cnew\\banking-app-review-analysis\\env\\lib\\site-packages (from spacy) (2.32.3)\n",
      "Requirement already satisfied: pydantic!=1.8,!=1.8.1,<3.0.0,>=1.7.4 in c:\\users\\addis\\onedrive\\documents\\clone\\cnew\\banking-app-review-analysis\\env\\lib\\site-packages (from spacy) (2.11.5)\n",
      "Requirement already satisfied: jinja2 in c:\\users\\addis\\onedrive\\documents\\clone\\cnew\\banking-app-review-analysis\\env\\lib\\site-packages (from spacy) (3.1.6)\n",
      "Requirement already satisfied: setuptools in c:\\users\\addis\\onedrive\\documents\\clone\\cnew\\banking-app-review-analysis\\env\\lib\\site-packages (from spacy) (80.9.0)\n",
      "Requirement already satisfied: packaging>=20.0 in c:\\users\\addis\\onedrive\\documents\\clone\\cnew\\banking-app-review-analysis\\env\\lib\\site-packages (from spacy) (25.0)\n",
      "Requirement already satisfied: langcodes<4.0.0,>=3.2.0 in c:\\users\\addis\\onedrive\\documents\\clone\\cnew\\banking-app-review-analysis\\env\\lib\\site-packages (from spacy) (3.5.0)\n",
      "Requirement already satisfied: language-data>=1.2 in c:\\users\\addis\\onedrive\\documents\\clone\\cnew\\banking-app-review-analysis\\env\\lib\\site-packages (from langcodes<4.0.0,>=3.2.0->spacy) (1.3.0)\n",
      "Requirement already satisfied: annotated-types>=0.6.0 in c:\\users\\addis\\onedrive\\documents\\clone\\cnew\\banking-app-review-analysis\\env\\lib\\site-packages (from pydantic!=1.8,!=1.8.1,<3.0.0,>=1.7.4->spacy) (0.7.0)\n",
      "Requirement already satisfied: pydantic-core==2.33.2 in c:\\users\\addis\\onedrive\\documents\\clone\\cnew\\banking-app-review-analysis\\env\\lib\\site-packages (from pydantic!=1.8,!=1.8.1,<3.0.0,>=1.7.4->spacy) (2.33.2)\n",
      "Requirement already satisfied: typing-extensions>=4.12.2 in c:\\users\\addis\\onedrive\\documents\\clone\\cnew\\banking-app-review-analysis\\env\\lib\\site-packages (from pydantic!=1.8,!=1.8.1,<3.0.0,>=1.7.4->spacy) (4.14.0)\n",
      "Requirement already satisfied: typing-inspection>=0.4.0 in c:\\users\\addis\\onedrive\\documents\\clone\\cnew\\banking-app-review-analysis\\env\\lib\\site-packages (from pydantic!=1.8,!=1.8.1,<3.0.0,>=1.7.4->spacy) (0.4.1)\n",
      "Requirement already satisfied: charset-normalizer<4,>=2 in c:\\users\\addis\\onedrive\\documents\\clone\\cnew\\banking-app-review-analysis\\env\\lib\\site-packages (from requests<3.0.0,>=2.13.0->spacy) (3.4.2)\n",
      "Requirement already satisfied: idna<4,>=2.5 in c:\\users\\addis\\onedrive\\documents\\clone\\cnew\\banking-app-review-analysis\\env\\lib\\site-packages (from requests<3.0.0,>=2.13.0->spacy) (3.10)\n",
      "Requirement already satisfied: urllib3<3,>=1.21.1 in c:\\users\\addis\\onedrive\\documents\\clone\\cnew\\banking-app-review-analysis\\env\\lib\\site-packages (from requests<3.0.0,>=2.13.0->spacy) (2.4.0)\n",
      "Requirement already satisfied: certifi>=2017.4.17 in c:\\users\\addis\\onedrive\\documents\\clone\\cnew\\banking-app-review-analysis\\env\\lib\\site-packages (from requests<3.0.0,>=2.13.0->spacy) (2025.4.26)\n",
      "Requirement already satisfied: blis<1.4.0,>=1.3.0 in c:\\users\\addis\\onedrive\\documents\\clone\\cnew\\banking-app-review-analysis\\env\\lib\\site-packages (from thinc<8.4.0,>=8.3.4->spacy) (1.3.0)\n",
      "Requirement already satisfied: confection<1.0.0,>=0.0.1 in c:\\users\\addis\\onedrive\\documents\\clone\\cnew\\banking-app-review-analysis\\env\\lib\\site-packages (from thinc<8.4.0,>=8.3.4->spacy) (0.1.5)\n",
      "Requirement already satisfied: colorama in c:\\users\\addis\\onedrive\\documents\\clone\\cnew\\banking-app-review-analysis\\env\\lib\\site-packages (from tqdm->nltk) (0.4.6)\n",
      "Requirement already satisfied: shellingham>=1.3.0 in c:\\users\\addis\\onedrive\\documents\\clone\\cnew\\banking-app-review-analysis\\env\\lib\\site-packages (from typer<1.0.0,>=0.3.0->spacy) (1.5.4)\n",
      "Requirement already satisfied: rich>=10.11.0 in c:\\users\\addis\\onedrive\\documents\\clone\\cnew\\banking-app-review-analysis\\env\\lib\\site-packages (from typer<1.0.0,>=0.3.0->spacy) (14.0.0)\n",
      "Requirement already satisfied: cloudpathlib<1.0.0,>=0.7.0 in c:\\users\\addis\\onedrive\\documents\\clone\\cnew\\banking-app-review-analysis\\env\\lib\\site-packages (from weasel<0.5.0,>=0.1.0->spacy) (0.21.1)\n",
      "Requirement already satisfied: smart-open<8.0.0,>=5.2.1 in c:\\users\\addis\\onedrive\\documents\\clone\\cnew\\banking-app-review-analysis\\env\\lib\\site-packages (from weasel<0.5.0,>=0.1.0->spacy) (7.1.0)\n",
      "Requirement already satisfied: MarkupSafe>=2.0 in c:\\users\\addis\\onedrive\\documents\\clone\\cnew\\banking-app-review-analysis\\env\\lib\\site-packages (from jinja2->spacy) (3.0.2)\n",
      "Requirement already satisfied: marisa-trie>=1.1.0 in c:\\users\\addis\\onedrive\\documents\\clone\\cnew\\banking-app-review-analysis\\env\\lib\\site-packages (from language-data>=1.2->langcodes<4.0.0,>=3.2.0->spacy) (1.2.1)\n",
      "Requirement already satisfied: markdown-it-py>=2.2.0 in c:\\users\\addis\\onedrive\\documents\\clone\\cnew\\banking-app-review-analysis\\env\\lib\\site-packages (from rich>=10.11.0->typer<1.0.0,>=0.3.0->spacy) (3.0.0)\n",
      "Requirement already satisfied: pygments<3.0.0,>=2.13.0 in c:\\users\\addis\\onedrive\\documents\\clone\\cnew\\banking-app-review-analysis\\env\\lib\\site-packages (from rich>=10.11.0->typer<1.0.0,>=0.3.0->spacy) (2.19.1)\n",
      "Requirement already satisfied: wrapt in c:\\users\\addis\\onedrive\\documents\\clone\\cnew\\banking-app-review-analysis\\env\\lib\\site-packages (from smart-open<8.0.0,>=5.2.1->weasel<0.5.0,>=0.1.0->spacy) (1.17.2)\n",
      "Requirement already satisfied: mdurl~=0.1 in c:\\users\\addis\\onedrive\\documents\\clone\\cnew\\banking-app-review-analysis\\env\\lib\\site-packages (from markdown-it-py>=2.2.0->rich>=10.11.0->typer<1.0.0,>=0.3.0->spacy) (0.1.2)\n"
     ]
    },
    {
     "name": "stderr",
     "output_type": "stream",
     "text": [
      "\n",
      "[notice] A new release of pip is available: 24.3.1 -> 25.1.1\n",
      "[notice] To update, run: python.exe -m pip install --upgrade pip\n",
      "<frozen runpy>:128: RuntimeWarning: 'nltk.downloader' found in sys.modules after import of package 'nltk', but prior to execution of 'nltk.downloader'; this may result in unpredictable behaviour\n",
      "[nltk_data] Downloading package stopwords to\n",
      "[nltk_data]     C:\\Users\\addis\\AppData\\Roaming\\nltk_data...\n",
      "[nltk_data]   Package stopwords is already up-to-date!\n"
     ]
    },
    {
     "name": "stdout",
     "output_type": "stream",
     "text": [
      "Collecting en-core-web-sm==3.8.0\n",
      "  Using cached https://github.com/explosion/spacy-models/releases/download/en_core_web_sm-3.8.0/en_core_web_sm-3.8.0-py3-none-any.whl (12.8 MB)\n",
      "\u001b[38;5;2m✔ Download and installation successful\u001b[0m\n",
      "You can now load the package via spacy.load('en_core_web_sm')\n"
     ]
    },
    {
     "name": "stderr",
     "output_type": "stream",
     "text": [
      "\n",
      "[notice] A new release of pip is available: 24.3.1 -> 25.1.1\n",
      "[notice] To update, run: python.exe -m pip install --upgrade pip\n"
     ]
    }
   ],
   "source": [
    "import pandas as pd\n",
    "!pip install transformers torch tqdm\n",
    "!pip install transformers torch tqdm\n",
    "from transformers import pipeline\n",
    "from tqdm import tqdm\n",
    "!pip install nltk scikit-learn spacy\n",
    "!python -m nltk.downloader stopwords\n",
    "!python -m spacy download en_core_web_sm\n",
    "import re\n",
    "import nltk\n",
    "from nltk.corpus import stopwords\n",
    "from sklearn.feature_extraction.text import TfidfVectorizer\n",
    "import spacy\n",
    "from collections import defaultdict"
   ]
  },
  {
   "cell_type": "markdown",
   "id": "a797b709",
   "metadata": {},
   "source": [
    "# Load Cleaned Data"
   ]
  },
  {
   "cell_type": "code",
   "execution_count": 8,
   "id": "7d586d01",
   "metadata": {},
   "outputs": [
    {
     "data": {
      "text/html": [
       "<div>\n",
       "<style scoped>\n",
       "    .dataframe tbody tr th:only-of-type {\n",
       "        vertical-align: middle;\n",
       "    }\n",
       "\n",
       "    .dataframe tbody tr th {\n",
       "        vertical-align: top;\n",
       "    }\n",
       "\n",
       "    .dataframe thead th {\n",
       "        text-align: right;\n",
       "    }\n",
       "</style>\n",
       "<table border=\"1\" class=\"dataframe\">\n",
       "  <thead>\n",
       "    <tr style=\"text-align: right;\">\n",
       "      <th></th>\n",
       "      <th>review</th>\n",
       "      <th>rating</th>\n",
       "      <th>date</th>\n",
       "      <th>bank</th>\n",
       "      <th>source</th>\n",
       "    </tr>\n",
       "  </thead>\n",
       "  <tbody>\n",
       "    <tr>\n",
       "      <th>0</th>\n",
       "      <td>\"Why don’t your ATMs support account-to-accoun...</td>\n",
       "      <td>4</td>\n",
       "      <td>2025-06-06</td>\n",
       "      <td>Commercial Bank of Ethiopia</td>\n",
       "      <td>Google Play</td>\n",
       "    </tr>\n",
       "    <tr>\n",
       "      <th>1</th>\n",
       "      <td>what is this app problem???</td>\n",
       "      <td>1</td>\n",
       "      <td>2025-06-05</td>\n",
       "      <td>Commercial Bank of Ethiopia</td>\n",
       "      <td>Google Play</td>\n",
       "    </tr>\n",
       "    <tr>\n",
       "      <th>2</th>\n",
       "      <td>the app is proactive and a good connections.</td>\n",
       "      <td>5</td>\n",
       "      <td>2025-06-05</td>\n",
       "      <td>Commercial Bank of Ethiopia</td>\n",
       "      <td>Google Play</td>\n",
       "    </tr>\n",
       "    <tr>\n",
       "      <th>3</th>\n",
       "      <td>I cannot send to cbebirr app. through this app.</td>\n",
       "      <td>3</td>\n",
       "      <td>2025-06-05</td>\n",
       "      <td>Commercial Bank of Ethiopia</td>\n",
       "      <td>Google Play</td>\n",
       "    </tr>\n",
       "    <tr>\n",
       "      <th>4</th>\n",
       "      <td>good</td>\n",
       "      <td>4</td>\n",
       "      <td>2025-06-05</td>\n",
       "      <td>Commercial Bank of Ethiopia</td>\n",
       "      <td>Google Play</td>\n",
       "    </tr>\n",
       "  </tbody>\n",
       "</table>\n",
       "</div>"
      ],
      "text/plain": [
       "                                              review  rating        date  \\\n",
       "0  \"Why don’t your ATMs support account-to-accoun...       4  2025-06-06   \n",
       "1                        what is this app problem???       1  2025-06-05   \n",
       "2       the app is proactive and a good connections.       5  2025-06-05   \n",
       "3    I cannot send to cbebirr app. through this app.       3  2025-06-05   \n",
       "4                                               good       4  2025-06-05   \n",
       "\n",
       "                          bank       source  \n",
       "0  Commercial Bank of Ethiopia  Google Play  \n",
       "1  Commercial Bank of Ethiopia  Google Play  \n",
       "2  Commercial Bank of Ethiopia  Google Play  \n",
       "3  Commercial Bank of Ethiopia  Google Play  \n",
       "4  Commercial Bank of Ethiopia  Google Play  "
      ]
     },
     "execution_count": 8,
     "metadata": {},
     "output_type": "execute_result"
    }
   ],
   "source": [
    "df = pd.read_csv('../data/cleaned_reviews.csv')\n",
    "df.head()\n"
   ]
  },
  {
   "cell_type": "markdown",
   "id": "65892a13",
   "metadata": {},
   "source": [
    "#  Sentiment Analysis with DistilBERT"
   ]
  },
  {
   "cell_type": "code",
   "execution_count": 9,
   "id": "da194273",
   "metadata": {},
   "outputs": [
    {
     "name": "stderr",
     "output_type": "stream",
     "text": [
      "Device set to use cpu\n",
      "100%|██████████| 1177/1177 [00:28<00:00, 41.39it/s]\n",
      "100%|██████████| 1177/1177 [00:27<00:00, 42.92it/s]\n"
     ]
    },
    {
     "data": {
      "text/html": [
       "<div>\n",
       "<style scoped>\n",
       "    .dataframe tbody tr th:only-of-type {\n",
       "        vertical-align: middle;\n",
       "    }\n",
       "\n",
       "    .dataframe tbody tr th {\n",
       "        vertical-align: top;\n",
       "    }\n",
       "\n",
       "    .dataframe thead th {\n",
       "        text-align: right;\n",
       "    }\n",
       "</style>\n",
       "<table border=\"1\" class=\"dataframe\">\n",
       "  <thead>\n",
       "    <tr style=\"text-align: right;\">\n",
       "      <th></th>\n",
       "      <th>review</th>\n",
       "      <th>sentiment</th>\n",
       "      <th>sentiment_score</th>\n",
       "    </tr>\n",
       "  </thead>\n",
       "  <tbody>\n",
       "    <tr>\n",
       "      <th>0</th>\n",
       "      <td>\"Why don’t your ATMs support account-to-accoun...</td>\n",
       "      <td>NEGATIVE</td>\n",
       "      <td>0.996465</td>\n",
       "    </tr>\n",
       "    <tr>\n",
       "      <th>1</th>\n",
       "      <td>what is this app problem???</td>\n",
       "      <td>NEGATIVE</td>\n",
       "      <td>0.999623</td>\n",
       "    </tr>\n",
       "    <tr>\n",
       "      <th>2</th>\n",
       "      <td>the app is proactive and a good connections.</td>\n",
       "      <td>POSITIVE</td>\n",
       "      <td>0.999868</td>\n",
       "    </tr>\n",
       "    <tr>\n",
       "      <th>3</th>\n",
       "      <td>I cannot send to cbebirr app. through this app.</td>\n",
       "      <td>NEGATIVE</td>\n",
       "      <td>0.995335</td>\n",
       "    </tr>\n",
       "    <tr>\n",
       "      <th>4</th>\n",
       "      <td>good</td>\n",
       "      <td>POSITIVE</td>\n",
       "      <td>0.999816</td>\n",
       "    </tr>\n",
       "  </tbody>\n",
       "</table>\n",
       "</div>"
      ],
      "text/plain": [
       "                                              review sentiment  \\\n",
       "0  \"Why don’t your ATMs support account-to-accoun...  NEGATIVE   \n",
       "1                        what is this app problem???  NEGATIVE   \n",
       "2       the app is proactive and a good connections.  POSITIVE   \n",
       "3    I cannot send to cbebirr app. through this app.  NEGATIVE   \n",
       "4                                               good  POSITIVE   \n",
       "\n",
       "   sentiment_score  \n",
       "0         0.996465  \n",
       "1         0.999623  \n",
       "2         0.999868  \n",
       "3         0.995335  \n",
       "4         0.999816  "
      ]
     },
     "execution_count": 9,
     "metadata": {},
     "output_type": "execute_result"
    }
   ],
   "source": [
    "# Load sentiment pipeline\n",
    "sentiment_pipeline = pipeline(\"sentiment-analysis\", model=\"distilbert-base-uncased-finetuned-sst-2-english\")\n",
    "\n",
    "# Apply to each review (batched)\n",
    "tqdm.pandas()\n",
    "df['sentiment'] = df['review'].progress_apply(lambda x: sentiment_pipeline(x[:512])[0]['label'])\n",
    "df['sentiment_score'] = df['review'].progress_apply(lambda x: sentiment_pipeline(x[:512])[0]['score'])\n",
    "\n",
    "df[['review', 'sentiment', 'sentiment_score']].head()\n"
   ]
  },
  {
   "cell_type": "markdown",
   "id": "a53be744",
   "metadata": {},
   "source": [
    "# Aggregate by Rating/Bank"
   ]
  },
  {
   "cell_type": "code",
   "execution_count": 3,
   "id": "385f1be8",
   "metadata": {},
   "outputs": [
    {
     "ename": "NameError",
     "evalue": "name 'df' is not defined",
     "output_type": "error",
     "traceback": [
      "\u001b[31m---------------------------------------------------------------------------\u001b[39m",
      "\u001b[31mNameError\u001b[39m                                 Traceback (most recent call last)",
      "\u001b[36mCell\u001b[39m\u001b[36m \u001b[39m\u001b[32mIn[3]\u001b[39m\u001b[32m, line 2\u001b[39m\n\u001b[32m      1\u001b[39m \u001b[38;5;66;03m# Grouping by rating to see sentiment distributions\u001b[39;00m\n\u001b[32m----> \u001b[39m\u001b[32m2\u001b[39m sentiment_by_rating = \u001b[43mdf\u001b[49m.groupby([\u001b[33m'\u001b[39m\u001b[33mbank\u001b[39m\u001b[33m'\u001b[39m, \u001b[33m'\u001b[39m\u001b[33mrating\u001b[39m\u001b[33m'\u001b[39m])[\u001b[33m'\u001b[39m\u001b[33msentiment\u001b[39m\u001b[33m'\u001b[39m].value_counts(normalize=\u001b[38;5;28;01mTrue\u001b[39;00m).unstack().fillna(\u001b[32m0\u001b[39m)\n\u001b[32m      3\u001b[39m sentiment_by_rating\n\u001b[32m      5\u001b[39m df.to_csv(\u001b[33m'\u001b[39m\u001b[33m../outputs/sentiment_results.csv\u001b[39m\u001b[33m'\u001b[39m, index=\u001b[38;5;28;01mFalse\u001b[39;00m)\n",
      "\u001b[31mNameError\u001b[39m: name 'df' is not defined"
     ]
    }
   ],
   "source": [
    "# Grouping by rating to see sentiment distributions\n",
    "sentiment_by_rating = df.groupby(['bank', 'rating'])['sentiment'].value_counts(normalize=True).unstack().fillna(0)\n",
    "sentiment_by_rating\n",
    "\n",
    "df.to_csv('../outputs/sentiment_results.csv', index=False)"
   ]
  },
  {
   "cell_type": "markdown",
   "id": "0f84e7c0",
   "metadata": {},
   "source": [
    "# Preprocess Text for Thematic Analysis"
   ]
  },
  {
   "cell_type": "code",
   "execution_count": 11,
   "id": "fbcf0002",
   "metadata": {},
   "outputs": [
    {
     "data": {
      "text/html": [
       "<div>\n",
       "<style scoped>\n",
       "    .dataframe tbody tr th:only-of-type {\n",
       "        vertical-align: middle;\n",
       "    }\n",
       "\n",
       "    .dataframe tbody tr th {\n",
       "        vertical-align: top;\n",
       "    }\n",
       "\n",
       "    .dataframe thead th {\n",
       "        text-align: right;\n",
       "    }\n",
       "</style>\n",
       "<table border=\"1\" class=\"dataframe\">\n",
       "  <thead>\n",
       "    <tr style=\"text-align: right;\">\n",
       "      <th></th>\n",
       "      <th>review</th>\n",
       "      <th>lemmatized</th>\n",
       "    </tr>\n",
       "  </thead>\n",
       "  <tbody>\n",
       "    <tr>\n",
       "      <th>0</th>\n",
       "      <td>\"Why don’t your ATMs support account-to-accoun...</td>\n",
       "      <td>atms support accounttoaccount transfer like co...</td>\n",
       "    </tr>\n",
       "    <tr>\n",
       "      <th>1</th>\n",
       "      <td>what is this app problem???</td>\n",
       "      <td>app problem</td>\n",
       "    </tr>\n",
       "    <tr>\n",
       "      <th>2</th>\n",
       "      <td>the app is proactive and a good connections.</td>\n",
       "      <td>app proactive good connection</td>\n",
       "    </tr>\n",
       "    <tr>\n",
       "      <th>3</th>\n",
       "      <td>I cannot send to cbebirr app. through this app.</td>\n",
       "      <td>I send cbebirr app app</td>\n",
       "    </tr>\n",
       "    <tr>\n",
       "      <th>4</th>\n",
       "      <td>good</td>\n",
       "      <td>good</td>\n",
       "    </tr>\n",
       "  </tbody>\n",
       "</table>\n",
       "</div>"
      ],
      "text/plain": [
       "                                              review  \\\n",
       "0  \"Why don’t your ATMs support account-to-accoun...   \n",
       "1                        what is this app problem???   \n",
       "2       the app is proactive and a good connections.   \n",
       "3    I cannot send to cbebirr app. through this app.   \n",
       "4                                               good   \n",
       "\n",
       "                                          lemmatized  \n",
       "0  atms support accounttoaccount transfer like co...  \n",
       "1                                        app problem  \n",
       "2                      app proactive good connection  \n",
       "3                             I send cbebirr app app  \n",
       "4                                               good  "
      ]
     },
     "execution_count": 11,
     "metadata": {},
     "output_type": "execute_result"
    }
   ],
   "source": [
    "nlp = spacy.load(\"en_core_web_sm\")\n",
    "stop_words = set(stopwords.words('english'))\n",
    "\n",
    "def clean_text(text):\n",
    "    text = text.lower()\n",
    "    text = re.sub(r'[^a-z\\s]', '', text)\n",
    "    return text\n",
    "\n",
    "def lemmatize(text):\n",
    "    doc = nlp(text)\n",
    "    return \" \".join([token.lemma_ for token in doc if token.lemma_ not in stop_words and token.is_alpha])\n",
    "\n",
    "# Preprocess\n",
    "df['cleaned'] = df['review'].apply(clean_text)\n",
    "df['lemmatized'] = df['cleaned'].apply(lemmatize)\n",
    "df[['review', 'lemmatized']].head()\n"
   ]
  },
  {
   "cell_type": "markdown",
   "id": "21d3364b",
   "metadata": {},
   "source": [
    "# Extract Keywords with TF-IDF"
   ]
  },
  {
   "cell_type": "code",
   "execution_count": 12,
   "id": "794c4288",
   "metadata": {},
   "outputs": [
    {
     "name": "stdout",
     "output_type": "stream",
     "text": [
      "['access' 'account' 'add' 'ahead' 'also' 'always' 'amazing' 'app'\n",
      " 'app ever' 'app work' 'application' 'bad' 'bad app' 'bank' 'bank super'\n",
      " 'banking' 'banking app' 'boa' 'cbe' 'convenient']\n"
     ]
    },
    {
     "data": {
      "text/plain": [
       "defaultdict(list,\n",
       "            {'Commercial Bank of Ethiopia': ['app',\n",
       "              'good',\n",
       "              'good app',\n",
       "              'nice',\n",
       "              'cbe',\n",
       "              'bank',\n",
       "              'like',\n",
       "              'use',\n",
       "              'work',\n",
       "              'easy'],\n",
       "             'Bank of Abyssinia': ['app',\n",
       "              'work',\n",
       "              'good',\n",
       "              'bank',\n",
       "              'bad',\n",
       "              'use',\n",
       "              'boa',\n",
       "              'please',\n",
       "              'time',\n",
       "              'banking'],\n",
       "             'Dashen Bank': ['app',\n",
       "              'good',\n",
       "              'dashen',\n",
       "              'bank',\n",
       "              'super',\n",
       "              'use',\n",
       "              'banking',\n",
       "              'fast',\n",
       "              'one',\n",
       "              'feature']})"
      ]
     },
     "execution_count": 12,
     "metadata": {},
     "output_type": "execute_result"
    }
   ],
   "source": [
    "vectorizer = TfidfVectorizer(ngram_range=(1,2), max_features=100)\n",
    "X = vectorizer.fit_transform(df['lemmatized'])\n",
    "keywords = vectorizer.get_feature_names_out()\n",
    "print(keywords[:20])\n",
    "\n",
    "\n",
    "bank_keywords = defaultdict(list)\n",
    "for bank in df['bank'].unique():\n",
    "    sub_df = df[df['bank'] == bank]\n",
    "    X_bank = vectorizer.fit_transform(sub_df['lemmatized'])\n",
    "    top_idx = X_bank.sum(axis=0).A1.argsort()[-10:][::-1]\n",
    "    bank_keywords[bank] = [vectorizer.get_feature_names_out()[i] for i in top_idx]\n",
    "\n",
    "bank_keywords\n",
    "\n"
   ]
  },
  {
   "cell_type": "markdown",
   "id": "ecf81899",
   "metadata": {},
   "source": [
    "# Manually Group Keywords into Themes"
   ]
  },
  {
   "cell_type": "code",
   "execution_count": 13,
   "id": "2c2f875f",
   "metadata": {},
   "outputs": [],
   "source": [
    "# Manually assign themes (rule-based)\n",
    "def assign_theme(text):\n",
    "    text = text.lower()\n",
    "    if any(kw in text for kw in ['login', 'signin', 'password']):\n",
    "        return 'Account Access'\n",
    "    elif any(kw in text for kw in ['slow', 'delay', 'loading']):\n",
    "        return 'Transaction Speed'\n",
    "    elif any(kw in text for kw in ['ui', 'interface', 'design']):\n",
    "        return 'UI/UX'\n",
    "    elif any(kw in text for kw in ['support', 'help', 'customer']):\n",
    "        return 'Customer Support'\n",
    "    elif any(kw in text for kw in ['crash', 'bug', 'error']):\n",
    "        return 'App Stability'\n",
    "    else:\n",
    "        return 'Other'\n",
    "\n",
    "df['theme'] = df['lemmatized'].apply(assign_theme)\n",
    "\n",
    "df[['review', 'sentiment', 'theme']].to_csv('../outputs/themes_by_bank.csv', index=False)\n",
    "\n"
   ]
  },
  {
   "cell_type": "markdown",
   "id": "2355980b",
   "metadata": {},
   "source": [
    "## Task 2 Summary\n",
    "\n",
    "- Reviews analyzed: 1200+\n",
    "- Sentiment labels assigned: 100%\n",
    "- Number of themes: 5\n"
   ]
  }
 ],
 "metadata": {
  "kernelspec": {
   "display_name": "env",
   "language": "python",
   "name": "python3"
  },
  "language_info": {
   "codemirror_mode": {
    "name": "ipython",
    "version": 3
   },
   "file_extension": ".py",
   "mimetype": "text/x-python",
   "name": "python",
   "nbconvert_exporter": "python",
   "pygments_lexer": "ipython3",
   "version": "3.13.2"
  }
 },
 "nbformat": 4,
 "nbformat_minor": 5
}
